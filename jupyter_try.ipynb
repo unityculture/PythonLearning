{
 "cells": [
  {
   "cell_type": "code",
   "execution_count": 1,
   "metadata": {
    "collapsed": false
   },
   "outputs": [
    {
     "name": "stdout",
     "output_type": "stream",
     "text": [
      "[10 20 30]\n"
     ]
    }
   ],
   "source": [
    "import numpy as np\n",
    "ironmen = np.array([10,20,30])\n",
    "print(ironmen)"
   ]
  },
  {
   "cell_type": "markdown",
   "metadata": {},
   "source": [
    "# Google"
   ]
  },
  {
   "cell_type": "markdown",
   "metadata": {
    "collapsed": true
   },
   "source": [
    "\n"
   ]
  },
  {
   "cell_type": "code",
   "execution_count": 3,
   "metadata": {
    "collapsed": false
   },
   "outputs": [
    {
     "name": "stdout",
     "output_type": "stream",
     "text": [
      "       groups  ironmen\n",
      "0  Modern Web       46\n",
      "1      DevOps        8\n",
      "2       Cloud       12\n",
      "3    Big Data       12\n",
      "4    Security        6\n",
      "5         tmp       58\n",
      "<class 'pandas.core.frame.DataFrame'>\n",
      "   col1  col2\n",
      "0     1     3\n",
      "1     2     4\n",
      "groups     object\n",
      "ironmen     int64\n",
      "dtype: object\n",
      "0    46\n",
      "Name: ironmen, dtype: int64\n",
      "---\n",
      "       groups  ironmen\n",
      "0  Modern Web       46\n",
      "---\n",
      "0    46\n",
      "1     8\n",
      "2    12\n",
      "3    12\n",
      "4     6\n",
      "5    58\n",
      "Name: ironmen, dtype: int64\n",
      "---\n",
      "0    46\n",
      "1     8\n",
      "2    12\n",
      "3    12\n",
      "4     6\n",
      "5    58\n",
      "Name: ironmen, dtype: int64\n",
      "---\n",
      "0    46\n",
      "1     8\n",
      "2    12\n",
      "3    12\n",
      "4     6\n",
      "5    58\n",
      "Name: ironmen, dtype: int64\n"
     ]
    }
   ],
   "source": [
    "# 由Dictionary轉換成DataFrame\n",
    "import numpy as np\n",
    "import pandas as pd\n",
    "groups = [\"Modern Web\", \"DevOps\", \"Cloud\", \"Big Data\", \"Security\", \"tmp\"]\n",
    "ironmen = [46, 8, 12, 12, 6, 58]\n",
    "ironmen_dict = {\"groups\": groups,\n",
    "                \"ironmen\": ironmen}\n",
    "ironmen_df = pd.DataFrame(ironmen_dict)\n",
    "print(ironmen_df)  # 看看資料框的外觀\n",
    "print(type(ironmen_df))  # pandas.core.frame.DataFrame\n",
    "# 由Numpy的array轉和\n",
    "my_2d_array = np.array([[1, 3], [2, 4]])\n",
    "my_df = pd.DataFrame(my_2d_array, columns=[\"col1\", \"col2\"])\n",
    "print(my_df)\n",
    "# ndarrat : 限定單一類型\n",
    "# Dafaframe : 可接受不同類型\n",
    "print(ironmen_df.dtypes)\n",
    "# 選擇資料\n",
    "print(ironmen_df.iloc[0:1, 1]) # 第一列第二欄：Modern Web 組的鐵人數\n",
    "print(\"---\")\n",
    "print(ironmen_df.iloc[0:1,:]) # 第一列：Modern Web 組的組名與鐵人數\n",
    "print(\"---\")\n",
    "print(ironmen_df.iloc[:,1]) # 第二欄：各組的鐵人數\n",
    "print(\"---\")\n",
    "print(ironmen_df[\"ironmen\"]) # 各組的鐵人數\n",
    "print(\"---\")\n",
    "print(ironmen_df.ironmen) # 各組的鐵人數\n"
   ]
  },
  {
   "cell_type": "code",
   "execution_count": null,
   "metadata": {
    "collapsed": true
   },
   "outputs": [],
   "source": []
  }
 ],
 "metadata": {
  "kernelspec": {
   "display_name": "Python 3",
   "language": "python",
   "name": "python3"
  },
  "language_info": {
   "codemirror_mode": {
    "name": "ipython",
    "version": 3
   },
   "file_extension": ".py",
   "mimetype": "text/x-python",
   "name": "python",
   "nbconvert_exporter": "python",
   "pygments_lexer": "ipython3",
   "version": "3.6.0"
  }
 },
 "nbformat": 4,
 "nbformat_minor": 2
}
